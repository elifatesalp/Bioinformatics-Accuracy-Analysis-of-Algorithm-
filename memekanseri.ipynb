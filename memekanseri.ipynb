{
 "cells": [
  {
   "cell_type": "code",
   "execution_count": null,
   "metadata": {},
   "outputs": [],
   "source": [
    "from asyncio.windows_events import NULL\n",
    "import pandas as pd \n",
    "import numpy as np \n",
    "import matplotlib.pyplot as plt \n",
    "import plotly.express as px \n",
    "from sklearn import model_selection\n",
    "from sklearn.model_selection import train_test_split\n",
    "from sklearn.svm import SVC\n",
    "from sklearn.metrics import accuracy_score\n",
    "from sklearn.tree import DecisionTreeClassifier\n",
    "\n",
    "\n",
    "data = pd.read_csv(\"BRCA.csv\")\n",
    "print(data.head())\n"
   ]
  },
  {
   "cell_type": "code",
   "execution_count": null,
   "metadata": {},
   "outputs": [],
   "source": [
    "print(data.isnull().sum())"
   ]
  },
  {
   "cell_type": "code",
   "execution_count": null,
   "metadata": {},
   "outputs": [],
   "source": [
    "data.info()\n",
    "print(\"Veri setinin boyutu\")\n",
    "print(data.shape)"
   ]
  },
  {
   "cell_type": "code",
   "execution_count": null,
   "metadata": {},
   "outputs": [],
   "source": [
    "print(data.Cinsiyet.value_counts()) \n",
    "data.Cinsiyet.hist()\n",
    "plt.show()"
   ]
  },
  {
   "cell_type": "code",
   "execution_count": null,
   "metadata": {},
   "outputs": [],
   "source": [
    "stage = data[\"Tümör_Evre\"].value_counts()\n",
    "transactions = stage.index\n",
    "quantity= stage.values\n",
    "figure = px.pie(data, \n",
    "             values=quantity,\n",
    "             names=transactions, hole = 0.5,\n",
    "             title=\"Hastalardaki tümörün evreleri\" )\n",
    "figure.show()\n",
    "data.Tümör_Evre.hist()\n",
    "plt.show()"
   ]
  },
  {
   "cell_type": "code",
   "execution_count": null,
   "metadata": {},
   "outputs": [],
   "source": [
    "histology = data[\"Histoloji\"].value_counts()\n",
    "transactions = histology.index\n",
    "quantity = histology.values\n",
    "figure = px.pie(data,\n",
    "                values=quantity,\n",
    "                names=transactions, hole = 0.5,\n",
    "                title=\"Hastalarin histolojisi \")\n",
    "figure.show()\n",
    "data.Histoloji.hist()\n",
    "plt.show()"
   ]
  },
  {
   "cell_type": "code",
   "execution_count": null,
   "metadata": {},
   "outputs": [],
   "source": [
    "#Hastaların ER, PR ve HER2 durumuna bakıyoruz\n",
    "print ( data [ \"ER durumu\" ]. value_counts())\n",
    "print ( data [ \"PR durumu\" ]. value_counts())\n",
    "print ( data [\"HER2 durumu\" ]. value_counts())"
   ]
  },
  {
   "cell_type": "code",
   "execution_count": null,
   "metadata": {},
   "outputs": [],
   "source": [
    "surgery = data[\"Ameliyat_Tipi\"].value_counts()\n",
    "transactions = surgery.index\n",
    "quantity = surgery.values\n",
    "figure = px.pie(data,\n",
    "            values=quantity,\n",
    "            names=transactions, hole=0.5,\n",
    "            title=\"Hastaların olduğu ameliyat türleri\")\n",
    "figure.show()\n",
    "data.Ameliyat_Tipi.hist()\n",
    "plt.show()"
   ]
  },
  {
   "cell_type": "code",
   "execution_count": null,
   "metadata": {},
   "outputs": [],
   "source": [
    "#Kullandığımız veri kümesinin birçok kategorik özelliği olduğundan bu verileri makine öğrenimi modelini eğitmede kullanmalıyız. Bu yüzden tüm kategorik sütunların değerlerini dönüştürüyoruz\n",
    "\n",
    "data[\"Tümör_Evre\"] = data[\"Tümör_Evre\"].map({\"I\": 1, \"II\": 2, \"III\": 3})\n",
    "data[\"Histoloji\"] = data[\"Histoloji\"].map({\"Infiltrating Ductal Carcinoma\": 1,\"Infiltrating Lobular Carcinoma\": 2, \"Mucinous Carcinoma\": 3})\n",
    "data[\"ER durumu\"] = data[\"ER durumu\"].map({\"Pozitif\": 1})\n",
    "data[\"PR durumu\"] = data[\"PR durumu\"].map({\"Pozitif\": 1})\n",
    "data[\"HER2 durumu\"] = data[\"HER2 durumu\"].map({\"Pozitif\": 1, \"Negatif\": 2})\n",
    "data[\"Cinsiyet\"] = data[\"Cinsiyet\"].map({\"ERKEK\": 0, \"KADIN\": 1})\n",
    "data[\"Ameliyat_Tipi\"] = data[\"Ameliyat_Tipi\"].map({\"Diğer\": 1, \"Modifiye Radikal Mastektomi\": 2, \n",
    "                                                 \"Lumpektomi\": 3, \"Basit Mastektomi\": 4})\n",
    "print(data.head())"
   ]
  },
  {
   "cell_type": "code",
   "execution_count": null,
   "metadata": {},
   "outputs": [],
   "source": [
    "#Hayatta kalma tahmini için makine öğrenimi modelini eğitebiliriz. Modeli eğitmeden önce elimizdeki verileri eğitim ve test olarak ayiriyoruz.\n",
    "#Veri kümesinin eğitim ve test verileri olarak ayrılması\n",
    "\n",
    "x = np.array(data[['Yas', 'Cinsiyet','Protein1','Protein2','Protein3','Protein4','Tümör_Evre', 'Histoloji', 'ER durumu', 'PR durumu','HER2 durumu','Ameliyat_Tipi']])\n",
    "y = np.array(data[['Hasta_Durumu']]).ravel()\n",
    "xtrain, xtest, ytrain, ytest = train_test_split(x, y, test_size=0.10, random_state=42)\n"
   ]
  },
  {
   "cell_type": "code",
   "execution_count": null,
   "metadata": {},
   "outputs": [],
   "source": [
    "#SVC makine öğrenimi\n",
    "model = SVC()\n",
    "model.fit(xtrain, ytrain)\n"
   ]
  },
  {
   "cell_type": "code",
   "execution_count": null,
   "metadata": {},
   "outputs": [],
   "source": [
    "#KNN için\n",
    "from sklearn.neighbors import KNeighborsClassifier\n",
    "from sklearn.model_selection import train_test_split\n",
    "from sklearn.datasets import load_iris\n",
    "\n",
    "data = load_iris()\n",
    "knn = KNeighborsClassifier(n_neighbors=7)\n",
    "knn.fit(xtrain,ytrain)"
   ]
  },
  {
   "cell_type": "code",
   "execution_count": null,
   "metadata": {},
   "outputs": [],
   "source": [
    "#LOGİSTİC REGRESSİON\n",
    "from sklearn.linear_model import LogisticRegression\n",
    "from sklearn.metrics import classification_report, confusion_matrix\n",
    "#giriş çıkış değikenleri oluşturuyoruz\n",
    "input=np.arange(10).reshape(-1,1)\n",
    "output=np.array([0,0,0,0,1,1,1,1,1,1])\n",
    "\n",
    "model= LogisticRegression(solver='liblinear',random_state=0)\n",
    "model.fit(input,output)"
   ]
  },
  {
   "cell_type": "code",
   "execution_count": null,
   "metadata": {},
   "outputs": [],
   "source": [
    "#SVC\n",
    "from sklearn.preprocessing import StandardScaler\n",
    "sc = StandardScaler()\n",
    "sc.fit(xtrain)\n",
    "xtrain_std =sc.transform(xtrain)\n",
    "xtest_std = sc.transform(xtest)\n",
    "\n",
    "from sklearn.svm import SVC\n",
    "classifier = SVC(kernel='linear',random_state=0)\n",
    "classifier.fit(xtrain,ytrain)\n",
    "y_pred = classifier.predict(xtest)"
   ]
  },
  {
   "cell_type": "code",
   "execution_count": null,
   "metadata": {},
   "outputs": [],
   "source": [
    "#LOGİSTİC REGRESYON\n",
    "from sklearn.linear_model import LogisticRegression\n",
    "lr = LogisticRegression()\n",
    "lr.fit(xtrain_std,ytrain)\n",
    "prediction = lr.predict(xtest_std)\n",
    "from sklearn.metrics import classification_report"
   ]
  },
  {
   "cell_type": "code",
   "execution_count": null,
   "metadata": {},
   "outputs": [],
   "source": [
    "#HASTANIN HAYATTA KALMA SONUCU LOGİSTİC REGRESYON İLE\n",
    "print(classification_report(ytest, prediction))"
   ]
  },
  {
   "cell_type": "code",
   "execution_count": null,
   "metadata": {},
   "outputs": [],
   "source": [
    "#CONFUSİON MATRİS\n",
    "import numpy as np\n",
    "import matplotlib.pyplot as plt \n",
    "from sklearn.metrics import classification_report, confusion_matrix\n",
    "\n",
    "confusion_matrix(output,model.predict(input))\n",
    "cm = confusion_matrix(output, model.predict(input))\n",
    "fig,ax = plt.subplots(figsize=(8,8))\n",
    "ax.imshow(cm)\n",
    "ax.grid(False)\n",
    "ax.xaxis.set(ticks=(0,1),ticklabels=(' TN \\nTahmin edilen hayatta gerçek değer ölü ', ' FP \\n Tahmin edilen ölü gerçek değer hayatta '))\n",
    "ax.yaxis.set(ticks=(0,1),ticklabels=(' TP \\n Tahmin edilen ve gerçek değer hayatta ',' FN \\n Tahmin edilen gerçek değer ölü'))\n",
    "ax.set_ylim(1.5, -0.5)\n",
    "for i in range (2):\n",
    "   for j in range (2):\n",
    "     ax.text(j,i, cm[i,j], ha='center',color='red')\n",
    "plt.show()"
   ]
  },
  {
   "cell_type": "code",
   "execution_count": null,
   "metadata": {},
   "outputs": [],
   "source": [
    "#Özellikleri girilen kişinin hayatta olup olmadığını öğrenmek için\n",
    "model =SVC()\n",
    "model.fit(xtrain,ytrain)\n",
    "features = np.array([[36.0, 1, 0.080353, 0.42638, 0.54715, 0.273680, 3, 1, 1, 1, 2, 2,]])\n",
    "sonuc = model.predict(features) \n",
    "print(sonuc)"
   ]
  },
  {
   "cell_type": "code",
   "execution_count": null,
   "metadata": {},
   "outputs": [],
   "source": [
    "#Çeşitli makine öğrenimi algoritmaları sayısal girdi verileri gerektirir. Bu nedenle kategorik sütunları sayısal bir sütunda temsil etmeliyiz.\n",
    "#Tümör evre bizim birinci özelliğimiz ameliyat tipi de ikinci özelliğimiz buna göre hayatta kalma durumuna bakacağız\n",
    "\n",
    "\n",
    "tumorEvre=['II','II','III','II','II','III','II','III','II','II','II','II','I','II','II','I','II','II','II','III']\n",
    "ameliyatTipi=['Modifiye Radikal Mastektomi','Lumpektomi','Diğer','Modifiye Radikal Mastektomi','Diğer','Modifiye Radikal Mastektomi','Basit Mastektomi','Basit Mastektomi','Modifiye Radikal Mastektomi','Diğer','Lumpektomi','Diğer','Basit Mastektomi','Basit Mastektomi','Modifiye Radikal Mastektomi','Basit Mastektomi','Modifiye Radikal Mastektomi','Basit Mastektomi','Lumpetomi','Lumpektomi']\n",
    "hastaDurumu=['Hayatta','Ölü','Hayatta','Hayatta','Ölü','Hayatta','Hayatta','Ölü','Hayatta','Hayatta','Ölü','Hayatta','Hayatta','Hayatta','Hayatta','Hayatta','Hayatta','Ölü','Hayatta','Hayatta']\n",
    "\n",
    "from sklearn import preprocessing\n",
    "le = preprocessing.LabelEncoder()\n",
    "tumorEvre_encoded=le.fit_transform(tumorEvre)\n",
    "print(tumorEvre_encoded)\n",
    "ameliyatTipi_encoded=le.fit_transform(ameliyatTipi)\n",
    "print(ameliyatTipi_encoded)\n",
    "hastaDurumu_encoded=le.fit_transform(hastaDurumu)\n",
    "print(hastaDurumu_encoded)"
   ]
  },
  {
   "cell_type": "code",
   "execution_count": null,
   "metadata": {},
   "outputs": [],
   "source": [
    "#dize etiketkerini sayılara dönüştürme\n",
    "from sklearn import preprocessing\n",
    "le = preprocessing.LabelEncoder()\n",
    "ameliyatTipi_encoded=le.fit_transform(ameliyatTipi)\n",
    "label=le.fit_transform(hastaDurumu)\n",
    "\n",
    "#tümör evre ve ameliyat tipini aynı demet listesinde birleştirmek\n",
    "features=list(zip(tumorEvre_encoded,ameliyatTipi_encoded))\n",
    "\n",
    "from sklearn.neighbors import KNeighborsClassifier\n",
    "model= KNeighborsClassifier(n_neighbors=3)"
   ]
  },
  {
   "cell_type": "code",
   "execution_count": null,
   "metadata": {},
   "outputs": [],
   "source": [
    "#Burada tümör 1. evredeyken ameliyat tiplerine göre hastanın hayatta kalıp kalmamasının başarımını ölçtük\n",
    "model.fit(features,label)\n",
    "predicted=model.predict([[0,1],[0,2],[0,3],[0,4]])\n",
    "print(predicted)"
   ]
  },
  {
   "cell_type": "code",
   "execution_count": null,
   "metadata": {},
   "outputs": [],
   "source": [
    "#Burada tümör 2. evredeyken ameliyat tiplerine göre hastanın hayatta kalıp kalmamasının başarımını ölçtük\n",
    "predicted=model.predict([[1,1],[1,2],[1,3],[1,4]])\n",
    "print(predicted)"
   ]
  },
  {
   "cell_type": "code",
   "execution_count": null,
   "metadata": {},
   "outputs": [],
   "source": [
    "#Burada tümör 3. evredeyken ameliyat tiplerine göre hastanın hayatta kalıp kalmamasının başarımını ölçtük\n",
    "predicted=model.predict([[2,1],[2,2],[2,3],[2,4]])\n",
    "print(predicted)"
   ]
  },
  {
   "cell_type": "code",
   "execution_count": null,
   "metadata": {},
   "outputs": [],
   "source": [
    "#KNN 1 için başarım\n",
    "from sklearn.neighbors import KNeighborsClassifier\n",
    "knn= KNeighborsClassifier(n_neighbors=1)\n",
    "knn.fit(xtrain, ytrain)\n",
    "y_pred=knn.predict(xtest)\n",
    "\n",
    "from sklearn import metrics\n",
    "print(\"Accuary:\", metrics.accuracy_score(ytest,y_pred))\n"
   ]
  },
  {
   "cell_type": "code",
   "execution_count": null,
   "metadata": {},
   "outputs": [],
   "source": [
    "#KNN 2 için başarım\n",
    "from sklearn.neighbors import KNeighborsClassifier\n",
    "knn= KNeighborsClassifier(n_neighbors=2)\n",
    "knn.fit(xtrain, ytrain)\n",
    "y_pred=knn.predict(xtest)\n",
    "\n",
    "from sklearn import metrics\n",
    "print(\"Accuary:\", metrics.accuracy_score(ytest,y_pred))\n"
   ]
  },
  {
   "cell_type": "code",
   "execution_count": null,
   "metadata": {},
   "outputs": [],
   "source": [
    "#KNN 7 için başarım\n",
    "from sklearn.neighbors import KNeighborsClassifier\n",
    "knn= KNeighborsClassifier(n_neighbors=7)\n",
    "knn.fit(xtrain, ytrain)\n",
    "y_pred=knn.predict(xtest)\n",
    "\n",
    "from sklearn import metrics\n",
    "print(\"Accuary:\", metrics.accuracy_score(ytest,y_pred))"
   ]
  },
  {
   "cell_type": "code",
   "execution_count": null,
   "metadata": {},
   "outputs": [],
   "source": [
    "#HİLL CLİMBİNG OPTİMİZASYON\n",
    "import numpy as np\n",
    "\n",
    "N = 12 #Problem boyutu\n",
    "def objective_function(solution):\n",
    "    return np.sum(solution)  \n",
    "def neighborhood_function(solution):\n",
    "    temp_sol = solution.copy()\n",
    "    rastgele_indis = np.random.randint(0,N)\n",
    "    temp_sol[rastgele_indis] = ~temp_sol[rastgele_indis] \n",
    "    return temp_sol\n",
    "\n",
    "cozum = np.random.random(N)>0.5\n",
    "cozumun_degeri = objective_function(cozum)\n",
    "for i in range(100):\n",
    "    yeni_cozum = neighborhood_function(cozum)\n",
    "    yeni_deger = objective_function(yeni_cozum)\n",
    "    \n",
    "    if yeni_deger > cozumun_degeri:\n",
    "        cozum = yeni_cozum\n",
    "        cozumun_degeri = yeni_deger   \n",
    "    print(cozumun_degeri)\n"
   ]
  },
  {
   "cell_type": "code",
   "execution_count": null,
   "metadata": {},
   "outputs": [],
   "source": [
    "#SİMULATED ANNEALİNG OPTİMİZASYONU\n",
    "from pickle import OBJ\n",
    "import numpy as np\n",
    "import random\n",
    "import math\n",
    "\n",
    "N = 12 #Problem boyutu\n",
    "def objective_function(sol):\n",
    "    return np.sum(sol)  \n",
    "def neighborhood_function(sol):\n",
    "    tempSol = sol.copy()\n",
    "    rastgele_indis = np.random.randint(0,N)\n",
    "    tempSol[rastgele_indis] = ~tempSol[rastgele_indis] \n",
    "    return tempSol\n",
    "\n",
    "Solution = np.random.random(N)>0.5\n",
    "Solution_value = objective_function(Solution)\n",
    "for i in range(100):\n",
    "    new_Solution = neighborhood_function(Solution)\n",
    "    new_value = objective_function(new_Solution)\n",
    "    if new_value > Solution_value:\n",
    "            Solution_value = OBJ(Solution)\n",
    "            new_value = neighborhood_function(new_Solution)\n",
    "            p = pow(math.e, (- new_value - Solution_value)/tempSol)\n",
    "    if(new_value < Solution_value or random.random()<p):\n",
    "        Solution_value=new_Solution\n",
    "        print(Solution_value)\n",
    "   \n",
    "       "
   ]
  },
  {
   "cell_type": "code",
   "execution_count": null,
   "metadata": {},
   "outputs": [],
   "source": [
    "import pandas as pd\n",
    "from sklearn.neighbors import KNeighborsClassifier\n",
    "import seaborn as sns\n",
    "import matplotlib.pyplot as plt\n",
    "\n",
    "xtrain, xtest, ytrain, ytest = train_test_split(x, y, test_size=0.10, random_state=42)\n",
    "\n",
    "x = pd.DataFrame(x)\n",
    "y = pd.DataFrame(y)\n",
    "\n",
    "def objective_function(solution):\n",
    "    if(sum(solution) == 0):\n",
    "        return 0\n",
    "    model = KNeighborsClassifier(n_neighbors=3)\n",
    "    model.fit(xtrain.loc[:,solution],ytrain)\n",
    "    score = model.score(xtest.loc[:,solution], ytest)\n",
    "    print(score)\n",
    "    return score\n",
    "best_objective = 0\n",
    "for i in range(1000):\n",
    "    solution = np.random.random(12)>0.5\n",
    "    sol_objective = objective_function(solution)    \n",
    "    if(sol_objective>best_objective):\n",
    "        best_solution = solution.copy()\n",
    "        best_objective = sol_objective\n",
    "\n",
    "\n",
    "# her seferinde 1000 kere çıkan kesinlik sonucunu hangisi en iyi değerse(başta 0 verdi) rastgele arttırıyor bi öncekş en iyi değerle karşılaştırır"
   ]
  }
 ],
 "metadata": {
  "kernelspec": {
   "display_name": "Python 3",
   "language": "python",
   "name": "python3"
  },
  "language_info": {
   "codemirror_mode": {
    "name": "ipython",
    "version": 3
   },
   "file_extension": ".py",
   "mimetype": "text/x-python",
   "name": "python",
   "nbconvert_exporter": "python",
   "pygments_lexer": "ipython3",
   "version": "3.9.13 (tags/v3.9.13:6de2ca5, May 17 2022, 16:36:42) [MSC v.1929 64 bit (AMD64)]"
  },
  "orig_nbformat": 4,
  "vscode": {
   "interpreter": {
    "hash": "645d200f4672f58eb59f3c8d7f704686f5b57c75388378ece8f2a0080ed1bc9e"
   }
  }
 },
 "nbformat": 4,
 "nbformat_minor": 2
}
